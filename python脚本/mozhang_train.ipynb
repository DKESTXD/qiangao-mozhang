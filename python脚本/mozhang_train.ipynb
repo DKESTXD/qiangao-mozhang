{
 "cells": [
  {
   "cell_type": "code",
   "execution_count": 1,
   "id": "cd7c3307-6159-4717-8e86-8e34a3c8c190",
   "metadata": {},
   "outputs": [],
   "source": [
    "import numpy as np\n",
    "import re\n",
    "import glob\n",
    "\n",
    "def process_txt(file_path, max_len=50):\n",
    "    \"\"\"\n",
    "    处理单个txt文件，返回一个 2x50 的矩阵\n",
    "    \"\"\"\n",
    "    x_vals, z_vals = [], []\n",
    "    \n",
    "    with open(file_path, 'r', encoding='utf-8') as f:\n",
    "        for line in f:\n",
    "            match = re.findall(r\"x:([-+]?\\d*\\.?\\d+),y:([-+]?\\d*\\.?\\d+),z:([-+]?\\d*\\.?\\d+)\", line)\n",
    "            if match:\n",
    "                x, _, z = match[0]\n",
    "                x_vals.append(float(x))\n",
    "                z_vals.append(float(z))\n",
    "    \n",
    "    # 不够补 0\n",
    "    x_vals = (x_vals + [0.0] * max_len)[:max_len]\n",
    "    z_vals = (z_vals + [0.0] * max_len)[:max_len]\n",
    "\n",
    "    return np.array([x_vals, z_vals])\n",
    "\n",
    "# 批量读取文件\n",
    "files_1=glob.glob(r\"D:\\新建文件夹 (5)\\data\\1_UP\\*.txt\")\n",
    "files_2=glob.glob(r\"D:\\新建文件夹 (5)\\data\\2_DOWN\\*.txt\")\n",
    "files_3=glob.glob(r\"D:\\新建文件夹 (5)\\data\\3_LEFT\\*.txt\")\n",
    "files_4=glob.glob(r\"D:\\新建文件夹 (5)\\data\\4_RIGHT\\*.txt\")\n",
    "matrices_1=[process_txt(f) for f in files_1]\n",
    "matrices_2=[process_txt(f) for f in files_2]\n",
    "matrices_3=[process_txt(f) for f in files_3]\n",
    "matrices_4=[process_txt(f) for f in files_4]\n",
    "#堆叠成三维数组 N×2×50\n",
    "data_1= np.stack(matrices_1)\n",
    "data_2= np.stack(matrices_2)\n",
    "data_3= np.stack(matrices_3)\n",
    "data_4= np.stack(matrices_4)"
   ]
  },
  {
   "cell_type": "code",
   "execution_count": 2,
   "id": "bc766f7d-36dc-48b9-9ed2-3ea07c86c3a6",
   "metadata": {},
   "outputs": [
    {
     "name": "stdout",
     "output_type": "stream",
     "text": [
      "(100, 2, 50)\n",
      "[[ 0.    0.    0.    0.   -0.   -0.01 -0.01 -0.04 -0.06 -0.05  0.01  0.09\n",
      "   0.17  0.27  0.    0.    0.    0.    0.    0.    0.    0.    0.    0.\n",
      "   0.    0.    0.    0.    0.    0.    0.    0.    0.    0.    0.    0.\n",
      "   0.    0.    0.    0.    0.    0.    0.    0.    0.    0.    0.    0.\n",
      "   0.    0.  ]\n",
      " [ 0.    0.    0.    0.    0.01  0.01  0.   -0.07 -0.16 -0.21 -0.24 -0.28\n",
      "  -0.31 -0.37  0.    0.    0.    0.    0.    0.    0.    0.    0.    0.\n",
      "   0.    0.    0.    0.    0.    0.    0.    0.    0.    0.    0.    0.\n",
      "   0.    0.    0.    0.    0.    0.    0.    0.    0.    0.    0.    0.\n",
      "   0.    0.  ]]\n"
     ]
    }
   ],
   "source": [
    "print(data_2.shape) \n",
    "print(data_2[0])"
   ]
  },
  {
   "cell_type": "code",
   "execution_count": 7,
   "id": "429cdbb7-9124-4ec6-855c-a29359c552ce",
   "metadata": {},
   "outputs": [
    {
     "name": "stdout",
     "output_type": "stream",
     "text": [
      "准确率: 0.9416666666666667\n",
      "              precision    recall  f1-score   support\n",
      "\n",
      "           1       0.96      0.90      0.93        30\n",
      "           2       0.97      1.00      0.98        30\n",
      "           3       0.96      0.90      0.93        30\n",
      "           4       0.88      0.97      0.92        30\n",
      "\n",
      "    accuracy                           0.94       120\n",
      "   macro avg       0.94      0.94      0.94       120\n",
      "weighted avg       0.94      0.94      0.94       120\n",
      "\n"
     ]
    }
   ],
   "source": [
    "import numpy as np\n",
    "from sklearn.model_selection import train_test_split\n",
    "from sklearn.svm import SVC\n",
    "from sklearn.metrics import classification_report, accuracy_score\n",
    "\n",
    "# 假设你的四个矩阵分别是 data1, data2, data3, data4，形状 (100, 2, 50)\n",
    "# 先拼接成一个总数据集\n",
    "X = np.concatenate([data_1, data_2, data_3, data_4], axis=0)  # (400, 2, 50)\n",
    "y = np.array([1]*100 + [2]*100 + [3]*100 + [4]*100)      # (400,)\n",
    "\n",
    "# 展平每个样本 (2,50) -> (100,)\n",
    "X = X.reshape(X.shape[0], -1)  # (400, 100)\n",
    "\n",
    "X_train, X_test, y_train, y_test = train_test_split(\n",
    "    X, y, test_size=0.3, random_state=44, stratify=y\n",
    ")\n",
    "\n",
    "clf = SVC(kernel='rbf', C=1, gamma=1.0)\n",
    "clf.fit(X_train, y_train)\n",
    "\n",
    "y_pred = clf.predict(X_test)\n",
    "\n",
    "print(\"准确率:\", accuracy_score(y_test, y_pred))\n",
    "print(classification_report(y_test, y_pred))\n"
   ]
  },
  {
   "cell_type": "code",
   "execution_count": 8,
   "id": "676a4cbe-32a2-4492-9e7b-f513c8a2b987",
   "metadata": {},
   "outputs": [
    {
     "name": "stdout",
     "output_type": "stream",
     "text": [
      "[1 1 1 1 1 1 1 1 1 1 1 1 1 3 3 1 1 1 1 1 1 1 1 1 4 1 1 1 1 1 1 1 1 1 1 1 1\n",
      " 1 1 1 1 1 1 1 1 1 1 1 1 1 1 1 1 1 1 1 1 1 1 1 1 1 1 1 1 1 1 1 1 1 1 1 1 1\n",
      " 1 1 1 1 1 1 1 1 1 1 4 1 1 4 4 1 1 1 3 1 1 1 1 1 1 1]\n",
      "[2 2 2 3 2 2 2 2 2 2 2 2 2 2 2 2 2 2 2 2 2 2 2 2 2 2 2 2 2 2 2 2 2 2 2 2 2\n",
      " 2 2 2 2 2 2 2 2 2 2 2 2 2 2 2 2 2 2 2 2 2 3 2 2 3 2 2 2 2 2 2 2 2 2 2 2 2\n",
      " 2 2 2 2 2 2 2 2 2 2 2 2 2 2 2 2 2 2 2 2 2 2 2 2 2 2]\n",
      "[2 3 3 3 3 3 3 3 2 3 3 3 3 3 3 3 3 4 3 3 3 3 3 3 3 3 3 3 3 3 3 3 3 3 3 3 3\n",
      " 3 3 3 3 3 3 3 3 3 3 3 3 3 3 3 3 3 3 3 3 3 3 3 3 3 3 3 3 3 4 4 4 4 4 4 4 3\n",
      " 3 3 3 3 3 3 3 3 3 3 3 3 3 3 3 3 3 3 3 3 3 3 3 3 3 3]\n",
      "[4 4 4 4 4 4 4 4 4 4 4 4 4 4 4 4 4 4 4 4 1 4 4 4 4 4 4 3 4 4 4 4 4 4 4 4 4\n",
      " 4 4 4 4 4 4 4 4 4 4 4 4 4 4 4 4 4 4 4 4 4 4 4 4 4 4 4 4 4 4 4 4 4 4 4 4 4\n",
      " 4 3 4 4 4 4 4 4 4 4 4 4 4 4 4 4 4 4 4 4 4 4 4 4 4 4]\n"
     ]
    }
   ],
   "source": [
    "B_1=data_1.reshape(data_1.shape[0],-1)\n",
    "B_2=data_2.reshape(data_2.shape[0],-1)\n",
    "B_3=data_3.reshape(data_3.shape[0],-1)\n",
    "B_4=data_4.reshape(data_4.shape[0],-1)\n",
    "\n",
    "a_1=clf.predict(B_1)\n",
    "a_2=clf.predict(B_2)\n",
    "a_3=clf.predict(B_3)\n",
    "a_4=clf.predict(B_4)\n",
    "\n",
    "print(a_1)\n",
    "print(a_2)\n",
    "print(a_3)\n",
    "print(a_4)"
   ]
  },
  {
   "cell_type": "code",
   "execution_count": 10,
   "id": "80e8888d-f53b-4f7e-8124-048250b69de7",
   "metadata": {},
   "outputs": [],
   "source": [
    "import serial\n",
    "import time\n",
    "import os\n",
    "\n",
    "#串口参数\n",
    "SERIAL_PORT = \"COM7\"   # 根据实际修改，比如 Linux 下 \"/dev/ttyUSB0\"\n",
    "BAUD_RATE = 115200\n",
    "\n",
    "#保存路径\n",
    "SAVE_DIR = r\"D:\\新建文件夹 (5)\\data\"\n",
    "os.makedirs(SAVE_DIR, exist_ok=True)\n",
    "\n",
    "ser = serial.Serial(SERIAL_PORT, BAUD_RATE, timeout=1)\n",
    "time.sleep(2)  # 等待串口稳定\n",
    "\n",
    "recording = False\n",
    "buffer = []"
   ]
  },
  {
   "cell_type": "code",
   "execution_count": 11,
   "id": "2a6d9a12-4b80-4d87-8fec-5a008d583568",
   "metadata": {},
   "outputs": [
    {
     "name": "stdout",
     "output_type": "stream",
     "text": [
      "开始采集样本\n",
      "样本已保存\n",
      "[3]\n",
      "开始采集样本\n",
      "样本已保存\n",
      "[1]\n",
      "开始采集样本\n",
      "样本已保存\n",
      "[3]\n",
      "开始采集样本\n",
      "样本已保存\n",
      "[1]\n"
     ]
    },
    {
     "ename": "KeyboardInterrupt",
     "evalue": "",
     "output_type": "error",
     "traceback": [
      "\u001b[31m---------------------------------------------------------------------------\u001b[39m",
      "\u001b[31mKeyboardInterrupt\u001b[39m                         Traceback (most recent call last)",
      "\u001b[36mCell\u001b[39m\u001b[36m \u001b[39m\u001b[32mIn[11]\u001b[39m\u001b[32m, line 2\u001b[39m\n\u001b[32m      1\u001b[39m \u001b[38;5;28;01mwhile\u001b[39;00m \u001b[38;5;28;01mTrue\u001b[39;00m:\n\u001b[32m----> \u001b[39m\u001b[32m2\u001b[39m     line = \u001b[43mser\u001b[49m\u001b[43m.\u001b[49m\u001b[43mreadline\u001b[49m\u001b[43m(\u001b[49m\u001b[43m)\u001b[49m.decode(\u001b[33m\"\u001b[39m\u001b[33mutf-8\u001b[39m\u001b[33m\"\u001b[39m, errors=\u001b[33m\"\u001b[39m\u001b[33mignore\u001b[39m\u001b[33m\"\u001b[39m).strip()\n\u001b[32m      3\u001b[39m     \u001b[38;5;28;01mif\u001b[39;00m \u001b[38;5;129;01mnot\u001b[39;00m line:\n\u001b[32m      4\u001b[39m         \u001b[38;5;28;01mcontinue\u001b[39;00m\n",
      "\u001b[36mFile \u001b[39m\u001b[32mE:\\pycharm\\202544\\.venv\\Lib\\site-packages\\serial\\serialwin32.py:288\u001b[39m, in \u001b[36mSerial.read\u001b[39m\u001b[34m(self, size)\u001b[39m\n\u001b[32m    286\u001b[39m \u001b[38;5;28;01mif\u001b[39;00m \u001b[38;5;129;01mnot\u001b[39;00m read_ok \u001b[38;5;129;01mand\u001b[39;00m win32.GetLastError() \u001b[38;5;129;01mnot\u001b[39;00m \u001b[38;5;129;01min\u001b[39;00m (win32.ERROR_SUCCESS, win32.ERROR_IO_PENDING):\n\u001b[32m    287\u001b[39m     \u001b[38;5;28;01mraise\u001b[39;00m SerialException(\u001b[33m\"\u001b[39m\u001b[33mReadFile failed (\u001b[39m\u001b[38;5;132;01m{!r}\u001b[39;00m\u001b[33m)\u001b[39m\u001b[33m\"\u001b[39m.format(ctypes.WinError()))\n\u001b[32m--> \u001b[39m\u001b[32m288\u001b[39m result_ok = \u001b[43mwin32\u001b[49m\u001b[43m.\u001b[49m\u001b[43mGetOverlappedResult\u001b[49m\u001b[43m(\u001b[49m\n\u001b[32m    289\u001b[39m \u001b[43m    \u001b[49m\u001b[38;5;28;43mself\u001b[39;49m\u001b[43m.\u001b[49m\u001b[43m_port_handle\u001b[49m\u001b[43m,\u001b[49m\n\u001b[32m    290\u001b[39m \u001b[43m    \u001b[49m\u001b[43mctypes\u001b[49m\u001b[43m.\u001b[49m\u001b[43mbyref\u001b[49m\u001b[43m(\u001b[49m\u001b[38;5;28;43mself\u001b[39;49m\u001b[43m.\u001b[49m\u001b[43m_overlapped_read\u001b[49m\u001b[43m)\u001b[49m\u001b[43m,\u001b[49m\n\u001b[32m    291\u001b[39m \u001b[43m    \u001b[49m\u001b[43mctypes\u001b[49m\u001b[43m.\u001b[49m\u001b[43mbyref\u001b[49m\u001b[43m(\u001b[49m\u001b[43mrc\u001b[49m\u001b[43m)\u001b[49m\u001b[43m,\u001b[49m\n\u001b[32m    292\u001b[39m \u001b[43m    \u001b[49m\u001b[38;5;28;43;01mTrue\u001b[39;49;00m\u001b[43m)\u001b[49m\n\u001b[32m    293\u001b[39m \u001b[38;5;28;01mif\u001b[39;00m \u001b[38;5;129;01mnot\u001b[39;00m result_ok:\n\u001b[32m    294\u001b[39m     \u001b[38;5;28;01mif\u001b[39;00m win32.GetLastError() != win32.ERROR_OPERATION_ABORTED:\n",
      "\u001b[31mKeyboardInterrupt\u001b[39m: "
     ]
    }
   ],
   "source": [
    "while True:\n",
    "    line = ser.readline().decode(\"utf-8\", errors=\"ignore\").strip()\n",
    "    if not line:\n",
    "        continue\n",
    "    if line == \"===START===\":\n",
    "        print(\"开始采集样本\")\n",
    "        buffer = []\n",
    "        recording = True\n",
    "        continue\n",
    "    if line == \"===END===\":\n",
    "        if recording:\n",
    "            filename = os.path.join(SAVE_DIR, \"test.txt\")\n",
    "            with open(filename, \"w\") as f:\n",
    "                f.write(\"\\n\".join(buffer))\n",
    "            print(\"样本已保存\")\n",
    "            recording = False\n",
    "        array=[process_txt(r\"D:\\新建文件夹 (5)\\data\\test.txt\")]\n",
    "        test=np.stack(array)\n",
    "        test=test.reshape(test.shape[0],-1)\n",
    "        result=clf.predict(test)\n",
    "        print(result)\n",
    "        if(result[0]==1):\n",
    "            os.system(\"start cmd\") \n",
    "        continue\n",
    "\n",
    "    if recording:\n",
    "        buffer.append(line)"
   ]
  },
  {
   "cell_type": "code",
   "execution_count": 10,
   "id": "9a94c7d5-2327-40bc-9aaa-e20ed0b035ea",
   "metadata": {},
   "outputs": [
    {
     "ename": "NameError",
     "evalue": "name 'ser' is not defined",
     "output_type": "error",
     "traceback": [
      "\u001b[31m---------------------------------------------------------------------------\u001b[39m",
      "\u001b[31mNameError\u001b[39m                                 Traceback (most recent call last)",
      "\u001b[36mCell\u001b[39m\u001b[36m \u001b[39m\u001b[32mIn[10]\u001b[39m\u001b[32m, line 1\u001b[39m\n\u001b[32m----> \u001b[39m\u001b[32m1\u001b[39m \u001b[43mser\u001b[49m.close()\n",
      "\u001b[31mNameError\u001b[39m: name 'ser' is not defined"
     ]
    }
   ],
   "source": [
    "ser.close()"
   ]
  },
  {
   "cell_type": "code",
   "execution_count": 9,
   "id": "60dc2998-b859-472d-a0ee-c3037a858bf1",
   "metadata": {},
   "outputs": [
    {
     "name": "stdout",
     "output_type": "stream",
     "text": [
      "模型已导出到 classifier.h\n"
     ]
    }
   ],
   "source": [
    "from micromlgen import port\n",
    "c_code = port(clf)\n",
    "with open(r\"D:\\新建文件夹 (5)\\data\\classifier.h\", \"w\") as f:\n",
    "    f.write(c_code)\n",
    "\n",
    "print(\"模型已导出到 classifier.h\")"
   ]
  },
  {
   "cell_type": "code",
   "execution_count": null,
   "id": "404000f8-a855-4b71-8ad2-fb413f677795",
   "metadata": {},
   "outputs": [],
   "source": []
  }
 ],
 "metadata": {
  "kernelspec": {
   "display_name": "Python 3 (ipykernel)",
   "language": "python",
   "name": "python3"
  },
  "language_info": {
   "codemirror_mode": {
    "name": "ipython",
    "version": 3
   },
   "file_extension": ".py",
   "mimetype": "text/x-python",
   "name": "python",
   "nbconvert_exporter": "python",
   "pygments_lexer": "ipython3",
   "version": "3.12.2"
  }
 },
 "nbformat": 4,
 "nbformat_minor": 5
}
