{
 "cells": [
  {
   "cell_type": "code",
   "execution_count": 11,
   "id": "80a5056e-c9fc-4ae1-a43e-b6bc799c578d",
   "metadata": {},
   "outputs": [],
   "source": [
    "import serial\n",
    "import time\n",
    "import os\n",
    "\n",
    "# 串口参数\n",
    "SERIAL_PORT = \"COM7\"   # 根据实际修改，比如 Linux 下 \"/dev/ttyUSB0\"\n",
    "BAUD_RATE = 115200\n",
    "\n",
    "\n",
    "# 保存路径\n",
    "SAVE_DIR = r\"D:\\新建文件夹 (5)\\data\\2_DOWN\"\n",
    "os.makedirs(SAVE_DIR, exist_ok=True)\n",
    "\n",
    "ser = serial.Serial(SERIAL_PORT, BAUD_RATE, timeout=1)\n",
    "time.sleep(2)  # 等待串口稳定\n",
    "\n",
    "sample_idx = 84\n",
    "recording = False\n",
    "buffer = []"
   ]
  },
  {
   "cell_type": "code",
   "execution_count": 12,
   "id": "dd2c5daf-6a6b-47bf-84d2-9a50f8cffd3a",
   "metadata": {},
   "outputs": [
    {
     "name": "stdout",
     "output_type": "stream",
     "text": [
      "开始采集样本 84\n",
      "样本 84 保存到 D:\\新建文件夹 (5)\\data\\2_DOWN\\sample_084.txt\n",
      "开始采集样本 85\n",
      "样本 85 保存到 D:\\新建文件夹 (5)\\data\\2_DOWN\\sample_085.txt\n",
      "开始采集样本 86\n",
      "样本 86 保存到 D:\\新建文件夹 (5)\\data\\2_DOWN\\sample_086.txt\n",
      "开始采集样本 87\n",
      "样本 87 保存到 D:\\新建文件夹 (5)\\data\\2_DOWN\\sample_087.txt\n",
      "开始采集样本 88\n",
      "样本 88 保存到 D:\\新建文件夹 (5)\\data\\2_DOWN\\sample_088.txt\n",
      "开始采集样本 89\n",
      "样本 89 保存到 D:\\新建文件夹 (5)\\data\\2_DOWN\\sample_089.txt\n",
      "开始采集样本 90\n",
      "样本 90 保存到 D:\\新建文件夹 (5)\\data\\2_DOWN\\sample_090.txt\n",
      "开始采集样本 91\n",
      "样本 91 保存到 D:\\新建文件夹 (5)\\data\\2_DOWN\\sample_091.txt\n",
      "开始采集样本 92\n",
      "样本 92 保存到 D:\\新建文件夹 (5)\\data\\2_DOWN\\sample_092.txt\n",
      "开始采集样本 93\n",
      "样本 93 保存到 D:\\新建文件夹 (5)\\data\\2_DOWN\\sample_093.txt\n",
      "开始采集样本 94\n",
      "样本 94 保存到 D:\\新建文件夹 (5)\\data\\2_DOWN\\sample_094.txt\n",
      "开始采集样本 95\n",
      "样本 95 保存到 D:\\新建文件夹 (5)\\data\\2_DOWN\\sample_095.txt\n",
      "开始采集样本 96\n",
      "样本 96 保存到 D:\\新建文件夹 (5)\\data\\2_DOWN\\sample_096.txt\n",
      "开始采集样本 97\n",
      "样本 97 保存到 D:\\新建文件夹 (5)\\data\\2_DOWN\\sample_097.txt\n",
      "开始采集样本 98\n",
      "样本 98 保存到 D:\\新建文件夹 (5)\\data\\2_DOWN\\sample_098.txt\n",
      "开始采集样本 99\n",
      "样本 99 保存到 D:\\新建文件夹 (5)\\data\\2_DOWN\\sample_099.txt\n",
      "开始采集样本 100\n",
      "样本 100 保存到 D:\\新建文件夹 (5)\\data\\2_DOWN\\sample_100.txt\n"
     ]
    },
    {
     "ename": "KeyboardInterrupt",
     "evalue": "",
     "output_type": "error",
     "traceback": [
      "\u001b[31m---------------------------------------------------------------------------\u001b[39m",
      "\u001b[31mKeyboardInterrupt\u001b[39m                         Traceback (most recent call last)",
      "\u001b[36mCell\u001b[39m\u001b[36m \u001b[39m\u001b[32mIn[12]\u001b[39m\u001b[32m, line 2\u001b[39m\n\u001b[32m      1\u001b[39m \u001b[38;5;28;01mwhile\u001b[39;00m \u001b[38;5;28;01mTrue\u001b[39;00m:\n\u001b[32m----> \u001b[39m\u001b[32m2\u001b[39m     line = \u001b[43mser\u001b[49m\u001b[43m.\u001b[49m\u001b[43mreadline\u001b[49m\u001b[43m(\u001b[49m\u001b[43m)\u001b[49m.decode(\u001b[33m\"\u001b[39m\u001b[33mutf-8\u001b[39m\u001b[33m\"\u001b[39m, errors=\u001b[33m\"\u001b[39m\u001b[33mignore\u001b[39m\u001b[33m\"\u001b[39m).strip()\n\u001b[32m      3\u001b[39m     \u001b[38;5;28;01mif\u001b[39;00m \u001b[38;5;129;01mnot\u001b[39;00m line:\n\u001b[32m      4\u001b[39m         \u001b[38;5;28;01mcontinue\u001b[39;00m\n",
      "\u001b[36mFile \u001b[39m\u001b[32mE:\\pycharm\\202544\\.venv\\Lib\\site-packages\\serial\\serialwin32.py:288\u001b[39m, in \u001b[36mSerial.read\u001b[39m\u001b[34m(self, size)\u001b[39m\n\u001b[32m    286\u001b[39m \u001b[38;5;28;01mif\u001b[39;00m \u001b[38;5;129;01mnot\u001b[39;00m read_ok \u001b[38;5;129;01mand\u001b[39;00m win32.GetLastError() \u001b[38;5;129;01mnot\u001b[39;00m \u001b[38;5;129;01min\u001b[39;00m (win32.ERROR_SUCCESS, win32.ERROR_IO_PENDING):\n\u001b[32m    287\u001b[39m     \u001b[38;5;28;01mraise\u001b[39;00m SerialException(\u001b[33m\"\u001b[39m\u001b[33mReadFile failed (\u001b[39m\u001b[38;5;132;01m{!r}\u001b[39;00m\u001b[33m)\u001b[39m\u001b[33m\"\u001b[39m.format(ctypes.WinError()))\n\u001b[32m--> \u001b[39m\u001b[32m288\u001b[39m result_ok = \u001b[43mwin32\u001b[49m\u001b[43m.\u001b[49m\u001b[43mGetOverlappedResult\u001b[49m\u001b[43m(\u001b[49m\n\u001b[32m    289\u001b[39m \u001b[43m    \u001b[49m\u001b[38;5;28;43mself\u001b[39;49m\u001b[43m.\u001b[49m\u001b[43m_port_handle\u001b[49m\u001b[43m,\u001b[49m\n\u001b[32m    290\u001b[39m \u001b[43m    \u001b[49m\u001b[43mctypes\u001b[49m\u001b[43m.\u001b[49m\u001b[43mbyref\u001b[49m\u001b[43m(\u001b[49m\u001b[38;5;28;43mself\u001b[39;49m\u001b[43m.\u001b[49m\u001b[43m_overlapped_read\u001b[49m\u001b[43m)\u001b[49m\u001b[43m,\u001b[49m\n\u001b[32m    291\u001b[39m \u001b[43m    \u001b[49m\u001b[43mctypes\u001b[49m\u001b[43m.\u001b[49m\u001b[43mbyref\u001b[49m\u001b[43m(\u001b[49m\u001b[43mrc\u001b[49m\u001b[43m)\u001b[49m\u001b[43m,\u001b[49m\n\u001b[32m    292\u001b[39m \u001b[43m    \u001b[49m\u001b[38;5;28;43;01mTrue\u001b[39;49;00m\u001b[43m)\u001b[49m\n\u001b[32m    293\u001b[39m \u001b[38;5;28;01mif\u001b[39;00m \u001b[38;5;129;01mnot\u001b[39;00m result_ok:\n\u001b[32m    294\u001b[39m     \u001b[38;5;28;01mif\u001b[39;00m win32.GetLastError() != win32.ERROR_OPERATION_ABORTED:\n",
      "\u001b[31mKeyboardInterrupt\u001b[39m: "
     ]
    }
   ],
   "source": [
    "\n",
    "while True:\n",
    "    line = ser.readline().decode(\"utf-8\", errors=\"ignore\").strip()\n",
    "    if not line:\n",
    "        continue\n",
    "\n",
    "    if line == \"===START===\":\n",
    "        print(f\"开始采集样本 {sample_idx}\")\n",
    "        buffer = []\n",
    "        recording = True\n",
    "        continue\n",
    "\n",
    "    if line == \"===END===\":\n",
    "        if recording:\n",
    "            filename = os.path.join(SAVE_DIR, f\"sample_{sample_idx:03d}.txt\")\n",
    "            with open(filename, \"w\") as f:\n",
    "                f.write(\"\\n\".join(buffer))\n",
    "            print(f\"样本 {sample_idx} 保存到 {filename}\")\n",
    "            sample_idx += 1\n",
    "            recording = False\n",
    "        continue\n",
    "\n",
    "    if recording:\n",
    "        buffer.append(line)"
   ]
  },
  {
   "cell_type": "code",
   "execution_count": 14,
   "id": "9bd3cac6-be74-4939-9705-243ffa1c89b8",
   "metadata": {},
   "outputs": [],
   "source": [
    "ser.close()"
   ]
  },
  {
   "cell_type": "code",
   "execution_count": null,
   "id": "42710e3b-ccca-48b7-a1bf-53ff9fd8b0d2",
   "metadata": {},
   "outputs": [],
   "source": []
  }
 ],
 "metadata": {
  "kernelspec": {
   "display_name": "Python 3 (ipykernel)",
   "language": "python",
   "name": "python3"
  },
  "language_info": {
   "codemirror_mode": {
    "name": "ipython",
    "version": 3
   },
   "file_extension": ".py",
   "mimetype": "text/x-python",
   "name": "python",
   "nbconvert_exporter": "python",
   "pygments_lexer": "ipython3",
   "version": "3.12.2"
  }
 },
 "nbformat": 4,
 "nbformat_minor": 5
}
